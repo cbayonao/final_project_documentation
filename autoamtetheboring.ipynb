{
 "cells": [
  {
   "cell_type": "code",
   "execution_count": 28,
   "metadata": {},
   "outputs": [],
   "source": [
    "import webbrowser"
   ]
  },
  {
   "cell_type": "code",
   "execution_count": 29,
   "metadata": {},
   "outputs": [
    {
     "data": {
      "text/plain": [
       "True"
      ]
     },
     "execution_count": 29,
     "metadata": {},
     "output_type": "execute_result"
    }
   ],
   "source": [
    "webbrowser.open('https://inventwithpython.com/')"
   ]
  },
  {
   "cell_type": "code",
   "execution_count": 24,
   "metadata": {},
   "outputs": [
    {
     "data": {
      "text/plain": [
       "(250,\n",
       " b'MN2PR19CA0009.outlook.office365.com Hello [200.69.82.98]\\nSIZE 157286400\\nPIPELINING\\nDSN\\nENHANCEDSTATUSCODES\\nSTARTTLS\\n8BITMIME\\nBINARYMIME\\nCHUNKING\\nSMTPUTF8')"
      ]
     },
     "execution_count": 24,
     "metadata": {},
     "output_type": "execute_result"
    }
   ],
   "source": [
    "smtpObj.ehlo()"
   ]
  },
  {
   "cell_type": "code",
   "execution_count": 25,
   "metadata": {},
   "outputs": [
    {
     "data": {
      "text/plain": [
       "(220, b'2.0.0 SMTP server ready')"
      ]
     },
     "execution_count": 25,
     "metadata": {},
     "output_type": "execute_result"
    }
   ],
   "source": [
    "smtpObj.starttls()"
   ]
  },
  {
   "cell_type": "code",
   "execution_count": 26,
   "metadata": {},
   "outputs": [
    {
     "data": {
      "text/plain": [
       "(235, b'2.7.0 Authentication successful')"
      ]
     },
     "execution_count": 26,
     "metadata": {},
     "output_type": "execute_result"
    }
   ],
   "source": [
    "smtpObj.login('drcamilob@live.com', 'c4m1l0elmejorhacker')"
   ]
  },
  {
   "cell_type": "code",
   "execution_count": 27,
   "metadata": {},
   "outputs": [
    {
     "ename": "SMTPDataError",
     "evalue": "(554, b'5.2.0 STOREDRV.Submission.Exception:SendAsDeniedException.MapiExceptionSendAsDenied; Failed to process message due to a permanent exception with message Cannot submit message. 0.35250:0A00EE85, 1.36674:0A000000, 1.61250:00000000, 1.45378:02000000, 1.44866:21020000, 1.36674:0E000000, 1.61250:00000000, 1.45378:26020000, 1.44866:26010000, 16.55847:B2030000, 17.43559:0000000024020000000000000000000000000000, 20.52176:140FB88B2200001000000000, 20.50032:140FB88B9217001000000000, 0.35180:F1030000, 255.23226:09000000, 255.27962:0A000000, 255.27962:0E000000, 255.31418:F1030000, 0.35250:0300C781, 1.36674:0A000000, 1.61250:00000000, 1.45378:02000000, 1.44866:20000000, 1.36674:32000000, 1.61250:00000000, 1.45378:25000000, 1.44866:01000000, 16.55847:8C000000, 17.43559:0000000070030000000000000000000000000000, 20.52176:140FB88B2200101039150000, 20.50032:140FB88B9217101000000000, 0.35180:3E150000, 255.23226:BC010000, 255.27962:0A000000, 255.27962:32000000, 255.17082:DC040000, 0.27745:74180000, 4.21921:DC040000, 255.27962:FA000000, 255.1494:00000000, 0.38698:05000780, 0.37692:01000000, 0.37948:0F010480, 5.33852:00000000534D545000000100, 7.36354:01000000000001091A010480, 4.56248:DC040000, 7.40748:010000000000010B1A010480, 7.57132:000000000000000000000000, 1.63016:32000000, 4.39640:DC040000, 8.45434:0140030057A58DAF00000000000000001A010480, 5.10786:0000000031352E32302E333030302E3033343A425941505230384D42353536303A65376630303338652D313739392D343931322D626664342D33333666326130366266376500F90F00000000, 7.51330:0648BDA170FCD70800000000, 0.39570:00000000, 1.55954:0A000000, 0.49266:02000000, 1.33010:0A000000, 2.54258:00000000, 0.40002:07000000, 1.56562:00000000, 1.64146:32000000, 1.33010:32000000, 2.54258:DC040000, 255.1750:AF000000, 255.31418:0A005D36, 0.22753:A9000000, 255.21817:DC040000, 0.64418:0A00F565, 4.39842:DC040000, 0.41586:B9000000, 4.60547:DC040000, 0.21966:B3000000, 4.30158:DC040000 [Hostname=BYAPR08MB5560.namprd08.prod.outlook.com]')",
     "output_type": "error",
     "traceback": [
      "\u001b[0;31m---------------------------------------------------------------------------\u001b[0m",
      "\u001b[0;31mSMTPDataError\u001b[0m                             Traceback (most recent call last)",
      "\u001b[0;32m<ipython-input-27-2fe54b28d30c>\u001b[0m in \u001b[0;36m<module>\u001b[0;34m\u001b[0m\n\u001b[0;32m----> 1\u001b[0;31m \u001b[0msmtpObj\u001b[0m\u001b[0;34m.\u001b[0m\u001b[0msendmail\u001b[0m\u001b[0;34m(\u001b[0m\u001b[0;34m'camilo@bayona.com'\u001b[0m\u001b[0;34m,\u001b[0m \u001b[0;34m'vendettacb@gmail.com'\u001b[0m\u001b[0;34m,\u001b[0m \u001b[0;34m'Subject: So long.\\nDear Alice, so long and thanks for all the fish. Sincerely, Bob'\u001b[0m\u001b[0;34m)\u001b[0m\u001b[0;34m\u001b[0m\u001b[0;34m\u001b[0m\u001b[0m\n\u001b[0m",
      "\u001b[0;32m~/anaconda3/lib/python3.7/smtplib.py\u001b[0m in \u001b[0;36msendmail\u001b[0;34m(self, from_addr, to_addrs, msg, mail_options, rcpt_options)\u001b[0m\n\u001b[1;32m    886\u001b[0m             \u001b[0;32melse\u001b[0m\u001b[0;34m:\u001b[0m\u001b[0;34m\u001b[0m\u001b[0;34m\u001b[0m\u001b[0m\n\u001b[1;32m    887\u001b[0m                 \u001b[0mself\u001b[0m\u001b[0;34m.\u001b[0m\u001b[0m_rset\u001b[0m\u001b[0;34m(\u001b[0m\u001b[0;34m)\u001b[0m\u001b[0;34m\u001b[0m\u001b[0;34m\u001b[0m\u001b[0m\n\u001b[0;32m--> 888\u001b[0;31m             \u001b[0;32mraise\u001b[0m \u001b[0mSMTPDataError\u001b[0m\u001b[0;34m(\u001b[0m\u001b[0mcode\u001b[0m\u001b[0;34m,\u001b[0m \u001b[0mresp\u001b[0m\u001b[0;34m)\u001b[0m\u001b[0;34m\u001b[0m\u001b[0;34m\u001b[0m\u001b[0m\n\u001b[0m\u001b[1;32m    889\u001b[0m         \u001b[0;31m#if we got here then somebody got our mail\u001b[0m\u001b[0;34m\u001b[0m\u001b[0;34m\u001b[0m\u001b[0;34m\u001b[0m\u001b[0m\n\u001b[1;32m    890\u001b[0m         \u001b[0;32mreturn\u001b[0m \u001b[0msenderrs\u001b[0m\u001b[0;34m\u001b[0m\u001b[0;34m\u001b[0m\u001b[0m\n",
      "\u001b[0;31mSMTPDataError\u001b[0m: (554, b'5.2.0 STOREDRV.Submission.Exception:SendAsDeniedException.MapiExceptionSendAsDenied; Failed to process message due to a permanent exception with message Cannot submit message. 0.35250:0A00EE85, 1.36674:0A000000, 1.61250:00000000, 1.45378:02000000, 1.44866:21020000, 1.36674:0E000000, 1.61250:00000000, 1.45378:26020000, 1.44866:26010000, 16.55847:B2030000, 17.43559:0000000024020000000000000000000000000000, 20.52176:140FB88B2200001000000000, 20.50032:140FB88B9217001000000000, 0.35180:F1030000, 255.23226:09000000, 255.27962:0A000000, 255.27962:0E000000, 255.31418:F1030000, 0.35250:0300C781, 1.36674:0A000000, 1.61250:00000000, 1.45378:02000000, 1.44866:20000000, 1.36674:32000000, 1.61250:00000000, 1.45378:25000000, 1.44866:01000000, 16.55847:8C000000, 17.43559:0000000070030000000000000000000000000000, 20.52176:140FB88B2200101039150000, 20.50032:140FB88B9217101000000000, 0.35180:3E150000, 255.23226:BC010000, 255.27962:0A000000, 255.27962:32000000, 255.17082:DC040000, 0.27745:74180000, 4.21921:DC040000, 255.27962:FA000000, 255.1494:00000000, 0.38698:05000780, 0.37692:01000000, 0.37948:0F010480, 5.33852:00000000534D545000000100, 7.36354:01000000000001091A010480, 4.56248:DC040000, 7.40748:010000000000010B1A010480, 7.57132:000000000000000000000000, 1.63016:32000000, 4.39640:DC040000, 8.45434:0140030057A58DAF00000000000000001A010480, 5.10786:0000000031352E32302E333030302E3033343A425941505230384D42353536303A65376630303338652D313739392D343931322D626664342D33333666326130366266376500F90F00000000, 7.51330:0648BDA170FCD70800000000, 0.39570:00000000, 1.55954:0A000000, 0.49266:02000000, 1.33010:0A000000, 2.54258:00000000, 0.40002:07000000, 1.56562:00000000, 1.64146:32000000, 1.33010:32000000, 2.54258:DC040000, 255.1750:AF000000, 255.31418:0A005D36, 0.22753:A9000000, 255.21817:DC040000, 0.64418:0A00F565, 4.39842:DC040000, 0.41586:B9000000, 4.60547:DC040000, 0.21966:B3000000, 4.30158:DC040000 [Hostname=BYAPR08MB5560.namprd08.prod.outlook.com]')"
     ]
    }
   ],
   "source": [
    "smtpObj.sendmail('camilo@bayona.com', 'vendettacb@gmail.com', 'Subject: So long.\\nDear Alice, so long and thanks for all the fish. Sincerely, Bob')"
   ]
  },
  {
   "cell_type": "code",
   "execution_count": null,
   "metadata": {},
   "outputs": [],
   "source": []
  }
 ],
 "metadata": {
  "kernelspec": {
   "display_name": "Python 3",
   "language": "python",
   "name": "python3"
  },
  "language_info": {
   "codemirror_mode": {
    "name": "ipython",
    "version": 3
   },
   "file_extension": ".py",
   "mimetype": "text/x-python",
   "name": "python",
   "nbconvert_exporter": "python",
   "pygments_lexer": "ipython3",
   "version": "3.7.4"
  }
 },
 "nbformat": 4,
 "nbformat_minor": 2
}
